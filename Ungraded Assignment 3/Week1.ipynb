{
  "nbformat": 4,
  "nbformat_minor": 0,
  "metadata": {
    "colab": {
      "name": "Week1.ipynb",
      "provenance": []
    },
    "kernelspec": {
      "name": "python3",
      "display_name": "Python 3"
    }
  },
  "cells": [
    {
      "cell_type": "markdown",
      "metadata": {
        "id": "5eZrX4n22ZZJ",
        "colab_type": "text"
      },
      "source": [
        "Deep Learning Basics with Numpy"
      ]
    },
    {
      "cell_type": "code",
      "metadata": {
        "id": "EuNHeAMz3_vs",
        "colab_type": "code",
        "colab": {}
      },
      "source": [
        "import numpy as np"
      ],
      "execution_count": 0,
      "outputs": []
    },
    {
      "cell_type": "code",
      "metadata": {
        "id": "5AKSrger2W7E",
        "colab_type": "code",
        "colab": {}
      },
      "source": [
        "import math\n",
        "\n",
        "def basic_sigmoid(x):\n",
        "    s = 1/(1 + np.exp(-x)) \n",
        "    return s"
      ],
      "execution_count": 0,
      "outputs": []
    },
    {
      "cell_type": "code",
      "metadata": {
        "id": "L2MRtKpb4F9r",
        "colab_type": "code",
        "colab": {}
      },
      "source": [
        "def sigmoid_derivative(x):\n",
        "    s = sigmoid(x)\n",
        "    ds = s*(1-s)\n",
        "    return ds"
      ],
      "execution_count": 0,
      "outputs": []
    },
    {
      "cell_type": "code",
      "metadata": {
        "id": "z8WqGWnk5BKD",
        "colab_type": "code",
        "colab": {}
      },
      "source": [
        "def image2vector(image):\n",
        "    return image.reshape(image.shape[0]*image.shape[1]*image.shape[2],1)"
      ],
      "execution_count": 0,
      "outputs": []
    },
    {
      "cell_type": "code",
      "metadata": {
        "id": "iDVCnbOz5UhB",
        "colab_type": "code",
        "colab": {}
      },
      "source": [
        "image = np.array([[[ 0.678,  0.293],\n",
        "        [ 0.907,  0.528],\n",
        "        [ 0.421 ,  0.450]],\n",
        "\n",
        "       [[ 0.928,  0.966],\n",
        "        [ 0.853,  0.523],\n",
        "        [ 0.199,  0.274]],\n",
        "\n",
        "       [[ 0.606,  0.005],\n",
        "        [ 0.108,  0.499],\n",
        "        [ 0.341,  0.946]]])"
      ],
      "execution_count": 0,
      "outputs": []
    },
    {
      "cell_type": "code",
      "metadata": {
        "id": "4WMErQiM5a1a",
        "colab_type": "code",
        "outputId": "0c1a7b0d-e553-411b-fe24-6da876e033c9",
        "colab": {
          "base_uri": "https://localhost:8080/",
          "height": 323
        }
      },
      "source": [
        "print (\"image2vector(image) = \" + str(image2vector(image)))"
      ],
      "execution_count": 7,
      "outputs": [
        {
          "output_type": "stream",
          "text": [
            "image2vector(image) = [[0.678]\n",
            " [0.293]\n",
            " [0.907]\n",
            " [0.528]\n",
            " [0.421]\n",
            " [0.45 ]\n",
            " [0.928]\n",
            " [0.966]\n",
            " [0.853]\n",
            " [0.523]\n",
            " [0.199]\n",
            " [0.274]\n",
            " [0.606]\n",
            " [0.005]\n",
            " [0.108]\n",
            " [0.499]\n",
            " [0.341]\n",
            " [0.946]]\n"
          ],
          "name": "stdout"
        }
      ]
    },
    {
      "cell_type": "code",
      "metadata": {
        "id": "qf1BXGaC5cnv",
        "colab_type": "code",
        "colab": {}
      },
      "source": [
        "def normalizeRows(x):\n",
        "    \n",
        "    nox = np.linalg.norm(x, axis = 1, keepdims = True)\n",
        "    return x / nox"
      ],
      "execution_count": 0,
      "outputs": []
    },
    {
      "cell_type": "code",
      "metadata": {
        "id": "XHy2XGHz57DM",
        "colab_type": "code",
        "outputId": "422c6193-b2f2-4f45-bd02-26dbc56afb88",
        "colab": {
          "base_uri": "https://localhost:8080/",
          "height": 51
        }
      },
      "source": [
        "x = np.array([[1,3,5],[2,7,1]])\n",
        "\n",
        "normalizeRows(x)"
      ],
      "execution_count": 9,
      "outputs": [
        {
          "output_type": "execute_result",
          "data": {
            "text/plain": [
              "array([[0.16903085, 0.50709255, 0.84515425],\n",
              "       [0.27216553, 0.95257934, 0.13608276]])"
            ]
          },
          "metadata": {
            "tags": []
          },
          "execution_count": 9
        }
      ]
    },
    {
      "cell_type": "code",
      "metadata": {
        "id": "sMGJ2ZgD6Bbu",
        "colab_type": "code",
        "colab": {}
      },
      "source": [
        "def softmax(x):\n",
        "    return np.exp(x) / np.sum(np.exp(x), axis = 1, keepdims = True)"
      ],
      "execution_count": 0,
      "outputs": []
    },
    {
      "cell_type": "code",
      "metadata": {
        "id": "9scbJ1CT6GaZ",
        "colab_type": "code",
        "outputId": "ddbfb13c-55b4-4dfd-faf9-94edfe8a1be0",
        "colab": {
          "base_uri": "https://localhost:8080/",
          "height": 85
        }
      },
      "source": [
        "x = np.array([\n",
        "    [7, 3, 6, 1, 0],\n",
        "    [7, 5, 0, 0 ,0]])\n",
        "print(\"softmax(x) = \" + str(softmax(x)))"
      ],
      "execution_count": 11,
      "outputs": [
        {
          "output_type": "stream",
          "text": [
            "softmax(x) = [[7.19638947e-01 1.31806471e-02 2.64740374e-01 1.78380661e-03\n",
            "  6.56225777e-04]\n",
            " [8.78679856e-01 1.18916387e-01 8.01252314e-04 8.01252314e-04\n",
            "  8.01252314e-04]]\n"
          ],
          "name": "stdout"
        }
      ]
    },
    {
      "cell_type": "code",
      "metadata": {
        "id": "-WqyUAJP6LqS",
        "colab_type": "code",
        "colab": {}
      },
      "source": [
        "def L1(x, y):\n",
        "    \n",
        "    return sum(abs(y-x))"
      ],
      "execution_count": 0,
      "outputs": []
    },
    {
      "cell_type": "code",
      "metadata": {
        "id": "9EnpfjJx6WWI",
        "colab_type": "code",
        "outputId": "3ccdcf50-d243-42ef-dfce-477d805ce701",
        "colab": {
          "base_uri": "https://localhost:8080/",
          "height": 34
        }
      },
      "source": [
        "x = np.array([.8, 0.1, 0.2, .5, .8])\n",
        "y = np.array([1, 0, 0, 1, 1])\n",
        "print(\"L1 = \" + str(L1(x,y)))"
      ],
      "execution_count": 13,
      "outputs": [
        {
          "output_type": "stream",
          "text": [
            "L1 = 1.2\n"
          ],
          "name": "stdout"
        }
      ]
    },
    {
      "cell_type": "code",
      "metadata": {
        "id": "6ZLgSGRq6eIo",
        "colab_type": "code",
        "colab": {}
      },
      "source": [
        "def L2(x, y):\n",
        "   \n",
        "    return sum((y-x)**2)"
      ],
      "execution_count": 0,
      "outputs": []
    },
    {
      "cell_type": "code",
      "metadata": {
        "id": "PgP-VPQR6kWr",
        "colab_type": "code",
        "outputId": "73577eec-3002-4fa1-f92a-67b25497949f",
        "colab": {
          "base_uri": "https://localhost:8080/",
          "height": 34
        }
      },
      "source": [
        "x = np.array([.8, 0.1, 0.2, .5, .8])\n",
        "y = np.array([1, 0, 0, 1, 1])\n",
        "print(\"L2 = \" + str(L2(x,y)))"
      ],
      "execution_count": 15,
      "outputs": [
        {
          "output_type": "stream",
          "text": [
            "L2 = 0.37999999999999995\n"
          ],
          "name": "stdout"
        }
      ]
    },
    {
      "cell_type": "code",
      "metadata": {
        "id": "w8kXiAZB6qL7",
        "colab_type": "code",
        "colab": {}
      },
      "source": [
        ""
      ],
      "execution_count": 0,
      "outputs": []
    }
  ]
}