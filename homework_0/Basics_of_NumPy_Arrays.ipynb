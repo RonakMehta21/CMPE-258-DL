{
  "nbformat": 4,
  "nbformat_minor": 0,
  "metadata": {
    "colab": {
      "name": "Basics of NumPy Arrays.ipynb",
      "provenance": [],
      "collapsed_sections": []
    },
    "kernelspec": {
      "name": "python3",
      "display_name": "Python 3"
    }
  },
  "cells": [
    {
      "cell_type": "markdown",
      "metadata": {
        "id": "q6UqNoC5vtT9",
        "colab_type": "text"
      },
      "source": [
        "<table align=\"left\">\n",
        "  <td>\n",
        "    <a target=\"_blank\" href=\"https://colab.research.google.com/drive/15Hd8td2N40Lr0omBoJ8FzRNsmeAXpEkR\"><img src=\"https://www.tensorflow.org/images/colab_logo_32px.png\" />Run in Google Colab</a>\n",
        "  </td>\n",
        "</table>"
      ]
    },
    {
      "cell_type": "markdown",
      "metadata": {
        "id": "VPbnMrzouE0q",
        "colab_type": "text"
      },
      "source": [
        "# Basics of NumPy Arrays"
      ]
    },
    {
      "cell_type": "markdown",
      "metadata": {
        "id": "QzUgn_cBurSs",
        "colab_type": "text"
      },
      "source": [
        "Below examples shows the NumPy data manipulation to access data and subarrays, and to split, reshape, and join the arrays."
      ]
    },
    {
      "cell_type": "markdown",
      "metadata": {
        "id": "p8Gvl6FLvPdM",
        "colab_type": "text"
      },
      "source": [
        "### Attributes of Array\n",
        "Determining the size, shape, memory consumption, and data types of arrays"
      ]
    },
    {
      "cell_type": "code",
      "metadata": {
        "id": "sCx_xkJMt5Va",
        "colab_type": "code",
        "colab": {}
      },
      "source": [
        "import numpy as np\n",
        "np.random.seed(0) #seed for reproducibility\n",
        "x1 = np.random.randint(10,size=6) #One-dimensional array\n",
        "x2 = np.random.randint(10,size=(3,4)) #Two-dimensional array\n",
        "x3 = np.random.randint(10,size=(3,4,5)) #Three-dimensional array"
      ],
      "execution_count": 0,
      "outputs": []
    },
    {
      "cell_type": "code",
      "metadata": {
        "id": "-uG-ynyXukWN",
        "colab_type": "code",
        "outputId": "f7c5f880-4f6e-477a-9d1a-ceb7b416d668",
        "colab": {
          "base_uri": "https://localhost:8080/",
          "height": 34
        }
      },
      "source": [
        "x1"
      ],
      "execution_count": 4,
      "outputs": [
        {
          "output_type": "execute_result",
          "data": {
            "text/plain": [
              "array([5, 0, 3, 3, 7, 9])"
            ]
          },
          "metadata": {
            "tags": []
          },
          "execution_count": 4
        }
      ]
    },
    {
      "cell_type": "code",
      "metadata": {
        "id": "HTtgKYzxuqa1",
        "colab_type": "code",
        "outputId": "e66343c9-a7a3-459a-edd1-c84e34922093",
        "colab": {
          "base_uri": "https://localhost:8080/",
          "height": 68
        }
      },
      "source": [
        "x2"
      ],
      "execution_count": 5,
      "outputs": [
        {
          "output_type": "execute_result",
          "data": {
            "text/plain": [
              "array([[3, 5, 2, 4],\n",
              "       [7, 6, 8, 8],\n",
              "       [1, 6, 7, 7]])"
            ]
          },
          "metadata": {
            "tags": []
          },
          "execution_count": 5
        }
      ]
    },
    {
      "cell_type": "code",
      "metadata": {
        "id": "srdQAMbZu64B",
        "colab_type": "code",
        "outputId": "141f57d4-a2c4-4569-ab17-3d99eac59b5f",
        "colab": {
          "base_uri": "https://localhost:8080/",
          "height": 255
        }
      },
      "source": [
        "x3"
      ],
      "execution_count": 7,
      "outputs": [
        {
          "output_type": "execute_result",
          "data": {
            "text/plain": [
              "array([[[8, 1, 5, 9, 8],\n",
              "        [9, 4, 3, 0, 3],\n",
              "        [5, 0, 2, 3, 8],\n",
              "        [1, 3, 3, 3, 7]],\n",
              "\n",
              "       [[0, 1, 9, 9, 0],\n",
              "        [4, 7, 3, 2, 7],\n",
              "        [2, 0, 0, 4, 5],\n",
              "        [5, 6, 8, 4, 1]],\n",
              "\n",
              "       [[4, 9, 8, 1, 1],\n",
              "        [7, 9, 9, 3, 6],\n",
              "        [7, 2, 0, 3, 5],\n",
              "        [9, 4, 4, 6, 4]]])"
            ]
          },
          "metadata": {
            "tags": []
          },
          "execution_count": 7
        }
      ]
    },
    {
      "cell_type": "code",
      "metadata": {
        "id": "vq4Apq_Yu7Yf",
        "colab_type": "code",
        "outputId": "12b6277b-c680-4045-abfb-268ecfbc162f",
        "colab": {
          "base_uri": "https://localhost:8080/",
          "height": 68
        }
      },
      "source": [
        "print(\"x3 dimension:\",x3.ndim)\n",
        "print(\"x3 shape:\",x3.shape)\n",
        "print(\"x3 size:\",x3.size)"
      ],
      "execution_count": 8,
      "outputs": [
        {
          "output_type": "stream",
          "text": [
            "x3 dimension: 3\n",
            "x3 shape: (3, 4, 5)\n",
            "x3 size: 60\n"
          ],
          "name": "stdout"
        }
      ]
    },
    {
      "cell_type": "code",
      "metadata": {
        "id": "G8CwKLj1vGQ2",
        "colab_type": "code",
        "outputId": "48cc8ed6-71e4-470c-8725-588098ea0176",
        "colab": {
          "base_uri": "https://localhost:8080/",
          "height": 34
        }
      },
      "source": [
        "print(\"x3 dtype:\",x3.dtype)"
      ],
      "execution_count": 9,
      "outputs": [
        {
          "output_type": "stream",
          "text": [
            "x3 dtype: int64\n"
          ],
          "name": "stdout"
        }
      ]
    },
    {
      "cell_type": "code",
      "metadata": {
        "id": "IdtEIDU2vb-J",
        "colab_type": "code",
        "outputId": "e7b868a6-2dd3-484b-b522-7a4213519105",
        "colab": {
          "base_uri": "https://localhost:8080/",
          "height": 51
        }
      },
      "source": [
        "print(\"x3 itemsize\",x3.itemsize)\n",
        "print(\"x3 nbytes\",x3.nbytes)\n",
        "# itemsize * size = nbytes"
      ],
      "execution_count": 10,
      "outputs": [
        {
          "output_type": "stream",
          "text": [
            "x3 itemsize 8\n",
            "x3 nbytes 480\n"
          ],
          "name": "stdout"
        }
      ]
    },
    {
      "cell_type": "markdown",
      "metadata": {
        "id": "T50-gYcbv-Jw",
        "colab_type": "text"
      },
      "source": [
        "### Array Indexing: Accessing Single Elements"
      ]
    },
    {
      "cell_type": "code",
      "metadata": {
        "id": "UlqbC1hnvmNo",
        "colab_type": "code",
        "outputId": "45bb0e75-c4bd-460d-d75b-8746ee7ef265",
        "colab": {
          "base_uri": "https://localhost:8080/",
          "height": 34
        }
      },
      "source": [
        "x1"
      ],
      "execution_count": 11,
      "outputs": [
        {
          "output_type": "execute_result",
          "data": {
            "text/plain": [
              "array([5, 0, 3, 3, 7, 9])"
            ]
          },
          "metadata": {
            "tags": []
          },
          "execution_count": 11
        }
      ]
    },
    {
      "cell_type": "code",
      "metadata": {
        "id": "N200FHFVwH9n",
        "colab_type": "code",
        "outputId": "d7185053-7674-4ce1-dbad-b088ecc14946",
        "colab": {
          "base_uri": "https://localhost:8080/",
          "height": 34
        }
      },
      "source": [
        "x1[0]"
      ],
      "execution_count": 12,
      "outputs": [
        {
          "output_type": "execute_result",
          "data": {
            "text/plain": [
              "5"
            ]
          },
          "metadata": {
            "tags": []
          },
          "execution_count": 12
        }
      ]
    },
    {
      "cell_type": "code",
      "metadata": {
        "id": "WoNVueDDwJyp",
        "colab_type": "code",
        "outputId": "037d3ab3-2b4f-4647-f0d9-9eba8e50f53c",
        "colab": {
          "base_uri": "https://localhost:8080/",
          "height": 34
        }
      },
      "source": [
        "x1[-1]"
      ],
      "execution_count": 13,
      "outputs": [
        {
          "output_type": "execute_result",
          "data": {
            "text/plain": [
              "9"
            ]
          },
          "metadata": {
            "tags": []
          },
          "execution_count": 13
        }
      ]
    },
    {
      "cell_type": "code",
      "metadata": {
        "id": "FBqNVZL8wN41",
        "colab_type": "code",
        "outputId": "59ebc4ee-ea49-46fd-aa90-02c19a9c6305",
        "colab": {
          "base_uri": "https://localhost:8080/",
          "height": 68
        }
      },
      "source": [
        "x2"
      ],
      "execution_count": 14,
      "outputs": [
        {
          "output_type": "execute_result",
          "data": {
            "text/plain": [
              "array([[3, 5, 2, 4],\n",
              "       [7, 6, 8, 8],\n",
              "       [1, 6, 7, 7]])"
            ]
          },
          "metadata": {
            "tags": []
          },
          "execution_count": 14
        }
      ]
    },
    {
      "cell_type": "code",
      "metadata": {
        "id": "_kpdpIewwRYa",
        "colab_type": "code",
        "outputId": "e6906ed2-0e47-44e5-8a79-34664494d214",
        "colab": {
          "base_uri": "https://localhost:8080/",
          "height": 34
        }
      },
      "source": [
        "x2[1][0]"
      ],
      "execution_count": 15,
      "outputs": [
        {
          "output_type": "execute_result",
          "data": {
            "text/plain": [
              "7"
            ]
          },
          "metadata": {
            "tags": []
          },
          "execution_count": 15
        }
      ]
    },
    {
      "cell_type": "code",
      "metadata": {
        "id": "C0IuC7z4wTGN",
        "colab_type": "code",
        "outputId": "47ef7727-e72d-40b5-8c02-3da7bdc5e814",
        "colab": {
          "base_uri": "https://localhost:8080/",
          "height": 34
        }
      },
      "source": [
        "x2[2][-2]"
      ],
      "execution_count": 16,
      "outputs": [
        {
          "output_type": "execute_result",
          "data": {
            "text/plain": [
              "7"
            ]
          },
          "metadata": {
            "tags": []
          },
          "execution_count": 16
        }
      ]
    },
    {
      "cell_type": "code",
      "metadata": {
        "id": "2GhamrZxwYXA",
        "colab_type": "code",
        "colab": {}
      },
      "source": [
        "x2[0][0] = 2"
      ],
      "execution_count": 0,
      "outputs": []
    },
    {
      "cell_type": "code",
      "metadata": {
        "id": "Wr8ERc4awc4j",
        "colab_type": "code",
        "outputId": "604c94aa-3cce-4fa8-d6d3-27a3e02ca886",
        "colab": {
          "base_uri": "https://localhost:8080/",
          "height": 68
        }
      },
      "source": [
        "x2"
      ],
      "execution_count": 18,
      "outputs": [
        {
          "output_type": "execute_result",
          "data": {
            "text/plain": [
              "array([[2, 5, 2, 4],\n",
              "       [7, 6, 8, 8],\n",
              "       [1, 6, 7, 7]])"
            ]
          },
          "metadata": {
            "tags": []
          },
          "execution_count": 18
        }
      ]
    },
    {
      "cell_type": "code",
      "metadata": {
        "id": "2iFIWr6ywdvs",
        "colab_type": "code",
        "colab": {}
      },
      "source": [
        "# While assigning a floating point value to int data type array, the array element is slightly truncated\n",
        "x1[0]=3.02848937458 "
      ],
      "execution_count": 0,
      "outputs": []
    },
    {
      "cell_type": "code",
      "metadata": {
        "id": "CV7eGT5qwkwW",
        "colab_type": "code",
        "outputId": "a1ce69d8-f7a3-4b56-d67c-2dc29b1f08c0",
        "colab": {
          "base_uri": "https://localhost:8080/",
          "height": 34
        }
      },
      "source": [
        "x1"
      ],
      "execution_count": 20,
      "outputs": [
        {
          "output_type": "execute_result",
          "data": {
            "text/plain": [
              "array([3, 0, 3, 3, 7, 9])"
            ]
          },
          "metadata": {
            "tags": []
          },
          "execution_count": 20
        }
      ]
    },
    {
      "cell_type": "markdown",
      "metadata": {
        "id": "gSQT2MWZw4q7",
        "colab_type": "text"
      },
      "source": [
        "### Array Slicing: Accessing Subarrays"
      ]
    },
    {
      "cell_type": "markdown",
      "metadata": {
        "id": "SpFkP-p4xKFO",
        "colab_type": "text"
      },
      "source": [
        "To access the NumPy array we use the similar slicing syntax\n",
        "\n",
        "``` python\n",
        "x[start:stop:step]\n",
        "```"
      ]
    },
    {
      "cell_type": "markdown",
      "metadata": {
        "id": "TeS45YuSxiXD",
        "colab_type": "text"
      },
      "source": [
        "One Dimensional Array"
      ]
    },
    {
      "cell_type": "code",
      "metadata": {
        "id": "Nwzr3L2LwlYp",
        "colab_type": "code",
        "outputId": "593d7dde-60dd-4705-8ef4-762875010bb4",
        "colab": {
          "base_uri": "https://localhost:8080/",
          "height": 34
        }
      },
      "source": [
        "x = np.arange(10)\n",
        "x"
      ],
      "execution_count": 21,
      "outputs": [
        {
          "output_type": "execute_result",
          "data": {
            "text/plain": [
              "array([0, 1, 2, 3, 4, 5, 6, 7, 8, 9])"
            ]
          },
          "metadata": {
            "tags": []
          },
          "execution_count": 21
        }
      ]
    },
    {
      "cell_type": "code",
      "metadata": {
        "id": "ZdexdnB1xl-7",
        "colab_type": "code",
        "outputId": "6a30c71b-a46b-4c43-dd03-8df84b9d200e",
        "colab": {
          "base_uri": "https://localhost:8080/",
          "height": 34
        }
      },
      "source": [
        "x[:5]"
      ],
      "execution_count": 22,
      "outputs": [
        {
          "output_type": "execute_result",
          "data": {
            "text/plain": [
              "array([0, 1, 2, 3, 4])"
            ]
          },
          "metadata": {
            "tags": []
          },
          "execution_count": 22
        }
      ]
    },
    {
      "cell_type": "code",
      "metadata": {
        "id": "pVtIsXznxotN",
        "colab_type": "code",
        "outputId": "bd7a830d-89e7-449f-c1d7-f07ada9c799f",
        "colab": {
          "base_uri": "https://localhost:8080/",
          "height": 34
        }
      },
      "source": [
        "x[5:]"
      ],
      "execution_count": 23,
      "outputs": [
        {
          "output_type": "execute_result",
          "data": {
            "text/plain": [
              "array([5, 6, 7, 8, 9])"
            ]
          },
          "metadata": {
            "tags": []
          },
          "execution_count": 23
        }
      ]
    },
    {
      "cell_type": "code",
      "metadata": {
        "id": "ZXiRpD07xqmD",
        "colab_type": "code",
        "outputId": "6941cd7f-7429-450d-bf39-4a0ed3fac18e",
        "colab": {
          "base_uri": "https://localhost:8080/",
          "height": 34
        }
      },
      "source": [
        "x[4:7]"
      ],
      "execution_count": 24,
      "outputs": [
        {
          "output_type": "execute_result",
          "data": {
            "text/plain": [
              "array([4, 5, 6])"
            ]
          },
          "metadata": {
            "tags": []
          },
          "execution_count": 24
        }
      ]
    },
    {
      "cell_type": "code",
      "metadata": {
        "id": "Bh0TIpqCxrwx",
        "colab_type": "code",
        "outputId": "f09199d8-153a-4d68-a223-3554a46a0a0f",
        "colab": {
          "base_uri": "https://localhost:8080/",
          "height": 34
        }
      },
      "source": [
        "x[::2]"
      ],
      "execution_count": 25,
      "outputs": [
        {
          "output_type": "execute_result",
          "data": {
            "text/plain": [
              "array([0, 2, 4, 6, 8])"
            ]
          },
          "metadata": {
            "tags": []
          },
          "execution_count": 25
        }
      ]
    },
    {
      "cell_type": "code",
      "metadata": {
        "id": "3i8nXqJNxtCn",
        "colab_type": "code",
        "outputId": "739e334c-5deb-415c-b45f-992a4aa6864e",
        "colab": {
          "base_uri": "https://localhost:8080/",
          "height": 34
        }
      },
      "source": [
        "x[1::2]"
      ],
      "execution_count": 26,
      "outputs": [
        {
          "output_type": "execute_result",
          "data": {
            "text/plain": [
              "array([1, 3, 5, 7, 9])"
            ]
          },
          "metadata": {
            "tags": []
          },
          "execution_count": 26
        }
      ]
    },
    {
      "cell_type": "code",
      "metadata": {
        "id": "8jP8zHnJxwqW",
        "colab_type": "code",
        "outputId": "277f744b-1aad-495d-dce4-692fa28bb1c4",
        "colab": {
          "base_uri": "https://localhost:8080/",
          "height": 34
        }
      },
      "source": [
        "x[::-1] ## All element reversed"
      ],
      "execution_count": 27,
      "outputs": [
        {
          "output_type": "execute_result",
          "data": {
            "text/plain": [
              "array([9, 8, 7, 6, 5, 4, 3, 2, 1, 0])"
            ]
          },
          "metadata": {
            "tags": []
          },
          "execution_count": 27
        }
      ]
    },
    {
      "cell_type": "code",
      "metadata": {
        "id": "HOAxP5Wox8kv",
        "colab_type": "code",
        "outputId": "955b62f0-600c-4064-9765-c44d03462849",
        "colab": {
          "base_uri": "https://localhost:8080/",
          "height": 34
        }
      },
      "source": [
        "x[5::-2]"
      ],
      "execution_count": 28,
      "outputs": [
        {
          "output_type": "execute_result",
          "data": {
            "text/plain": [
              "array([5, 3, 1])"
            ]
          },
          "metadata": {
            "tags": []
          },
          "execution_count": 28
        }
      ]
    },
    {
      "cell_type": "markdown",
      "metadata": {
        "id": "ZuzXoQmOyR53",
        "colab_type": "text"
      },
      "source": [
        "### Multidimensional Subarrays\n",
        "Same as one-dimensional arrays, with multiple slices separated by commas"
      ]
    },
    {
      "cell_type": "code",
      "metadata": {
        "id": "eXkq9keXx_tF",
        "colab_type": "code",
        "outputId": "28ebf8f7-dedc-4015-b43e-9442eee009c6",
        "colab": {
          "base_uri": "https://localhost:8080/",
          "height": 68
        }
      },
      "source": [
        "x2"
      ],
      "execution_count": 29,
      "outputs": [
        {
          "output_type": "execute_result",
          "data": {
            "text/plain": [
              "array([[2, 5, 2, 4],\n",
              "       [7, 6, 8, 8],\n",
              "       [1, 6, 7, 7]])"
            ]
          },
          "metadata": {
            "tags": []
          },
          "execution_count": 29
        }
      ]
    },
    {
      "cell_type": "code",
      "metadata": {
        "id": "WF7vVDTFytZI",
        "colab_type": "code",
        "outputId": "b284fde1-178e-4b9e-e275-702daad22e4b",
        "colab": {
          "base_uri": "https://localhost:8080/",
          "height": 51
        }
      },
      "source": [
        "x2[:2,:3]"
      ],
      "execution_count": 30,
      "outputs": [
        {
          "output_type": "execute_result",
          "data": {
            "text/plain": [
              "array([[2, 5, 2],\n",
              "       [7, 6, 8]])"
            ]
          },
          "metadata": {
            "tags": []
          },
          "execution_count": 30
        }
      ]
    },
    {
      "cell_type": "code",
      "metadata": {
        "id": "IsggfT-0yzM9",
        "colab_type": "code",
        "outputId": "6d7cf77f-714c-4874-d51a-69395c8127a3",
        "colab": {
          "base_uri": "https://localhost:8080/",
          "height": 68
        }
      },
      "source": [
        "x2[:3,::2]"
      ],
      "execution_count": 31,
      "outputs": [
        {
          "output_type": "execute_result",
          "data": {
            "text/plain": [
              "array([[2, 2],\n",
              "       [7, 8],\n",
              "       [1, 7]])"
            ]
          },
          "metadata": {
            "tags": []
          },
          "execution_count": 31
        }
      ]
    },
    {
      "cell_type": "code",
      "metadata": {
        "id": "m60hadpQy6JQ",
        "colab_type": "code",
        "outputId": "512cd77e-01f4-4e3a-9cb1-f5cd5b0dc312",
        "colab": {
          "base_uri": "https://localhost:8080/",
          "height": 68
        }
      },
      "source": [
        "x2[::-1,::-1]"
      ],
      "execution_count": 32,
      "outputs": [
        {
          "output_type": "execute_result",
          "data": {
            "text/plain": [
              "array([[7, 7, 6, 1],\n",
              "       [8, 8, 6, 7],\n",
              "       [4, 2, 5, 2]])"
            ]
          },
          "metadata": {
            "tags": []
          },
          "execution_count": 32
        }
      ]
    },
    {
      "cell_type": "markdown",
      "metadata": {
        "id": "PqxOcBGOzXjl",
        "colab_type": "text"
      },
      "source": [
        "### Accessing array rows and columns"
      ]
    },
    {
      "cell_type": "code",
      "metadata": {
        "id": "WyE4ol0vzCcS",
        "colab_type": "code",
        "outputId": "acd24e8a-b16d-4929-e6ea-05ebad0beef1",
        "colab": {
          "base_uri": "https://localhost:8080/",
          "height": 34
        }
      },
      "source": [
        "x2[:,0] # First column of x2 array"
      ],
      "execution_count": 33,
      "outputs": [
        {
          "output_type": "execute_result",
          "data": {
            "text/plain": [
              "array([2, 7, 1])"
            ]
          },
          "metadata": {
            "tags": []
          },
          "execution_count": 33
        }
      ]
    },
    {
      "cell_type": "code",
      "metadata": {
        "id": "XBI2k4S9zjDN",
        "colab_type": "code",
        "outputId": "64268ec4-701d-4c7d-d07e-97ac53cde4b4",
        "colab": {
          "base_uri": "https://localhost:8080/",
          "height": 34
        }
      },
      "source": [
        "x2[0,:] # First row of x2 array"
      ],
      "execution_count": 34,
      "outputs": [
        {
          "output_type": "execute_result",
          "data": {
            "text/plain": [
              "array([2, 5, 2, 4])"
            ]
          },
          "metadata": {
            "tags": []
          },
          "execution_count": 34
        }
      ]
    },
    {
      "cell_type": "markdown",
      "metadata": {
        "id": "SQJ_PQRv0F7U",
        "colab_type": "text"
      },
      "source": [
        "### Subarray as no-copy views\n",
        "In NumPy the slicing doesn't create a copy. Modifying the sliced array will modify the original array"
      ]
    },
    {
      "cell_type": "code",
      "metadata": {
        "id": "WgJ-8yICzoSF",
        "colab_type": "code",
        "outputId": "9003415b-563c-414e-d48d-9567460c4a5f",
        "colab": {
          "base_uri": "https://localhost:8080/",
          "height": 68
        }
      },
      "source": [
        "x2"
      ],
      "execution_count": 35,
      "outputs": [
        {
          "output_type": "execute_result",
          "data": {
            "text/plain": [
              "array([[2, 5, 2, 4],\n",
              "       [7, 6, 8, 8],\n",
              "       [1, 6, 7, 7]])"
            ]
          },
          "metadata": {
            "tags": []
          },
          "execution_count": 35
        }
      ]
    },
    {
      "cell_type": "markdown",
      "metadata": {
        "id": "EoYrJVA20yZ4",
        "colab_type": "text"
      },
      "source": [
        "Let's extract a $2 \\times 2$ subarray from this:"
      ]
    },
    {
      "cell_type": "code",
      "metadata": {
        "id": "lRrqbwzf0hBi",
        "colab_type": "code",
        "outputId": "6fa9828e-60ad-405d-923e-2be7d28dda90",
        "colab": {
          "base_uri": "https://localhost:8080/",
          "height": 51
        }
      },
      "source": [
        "x2_slice = x2[:2,:2]\n",
        "x2_slice"
      ],
      "execution_count": 36,
      "outputs": [
        {
          "output_type": "execute_result",
          "data": {
            "text/plain": [
              "array([[2, 5],\n",
              "       [7, 6]])"
            ]
          },
          "metadata": {
            "tags": []
          },
          "execution_count": 36
        }
      ]
    },
    {
      "cell_type": "code",
      "metadata": {
        "id": "G56U7qt20izE",
        "colab_type": "code",
        "outputId": "1d2d88a5-fe73-426c-c36b-f66e033732fa",
        "colab": {
          "base_uri": "https://localhost:8080/",
          "height": 51
        }
      },
      "source": [
        "x2_slice[0,0]=99\n",
        "x2_slice"
      ],
      "execution_count": 37,
      "outputs": [
        {
          "output_type": "execute_result",
          "data": {
            "text/plain": [
              "array([[99,  5],\n",
              "       [ 7,  6]])"
            ]
          },
          "metadata": {
            "tags": []
          },
          "execution_count": 37
        }
      ]
    },
    {
      "cell_type": "code",
      "metadata": {
        "id": "mSvoOsL40qBj",
        "colab_type": "code",
        "outputId": "5c65f885-c2ca-4ebe-ec08-5d5cca5023ed",
        "colab": {
          "base_uri": "https://localhost:8080/",
          "height": 68
        }
      },
      "source": [
        "x2"
      ],
      "execution_count": 38,
      "outputs": [
        {
          "output_type": "execute_result",
          "data": {
            "text/plain": [
              "array([[99,  5,  2,  4],\n",
              "       [ 7,  6,  8,  8],\n",
              "       [ 1,  6,  7,  7]])"
            ]
          },
          "metadata": {
            "tags": []
          },
          "execution_count": 38
        }
      ]
    },
    {
      "cell_type": "markdown",
      "metadata": {
        "id": "8hlV3ktP1JNI",
        "colab_type": "text"
      },
      "source": [
        "### Creating copies of subarray"
      ]
    },
    {
      "cell_type": "code",
      "metadata": {
        "id": "-sW7az9M0thf",
        "colab_type": "code",
        "outputId": "2ec09ebe-826f-440b-8d6b-c1944bd04d5e",
        "colab": {
          "base_uri": "https://localhost:8080/",
          "height": 51
        }
      },
      "source": [
        "x2_sub_copy = x2[:2,:2].copy()\n",
        "print(x2_sub_copy)"
      ],
      "execution_count": 39,
      "outputs": [
        {
          "output_type": "stream",
          "text": [
            "[[99  5]\n",
            " [ 7  6]]\n"
          ],
          "name": "stdout"
        }
      ]
    },
    {
      "cell_type": "code",
      "metadata": {
        "id": "9CD8MJOq1P-n",
        "colab_type": "code",
        "colab": {}
      },
      "source": [
        "x2_sub_copy[0,0]=2"
      ],
      "execution_count": 0,
      "outputs": []
    },
    {
      "cell_type": "code",
      "metadata": {
        "id": "v88Lqk4E1WUK",
        "colab_type": "code",
        "outputId": "e41e20e4-d6f2-4a27-83df-6bc2ac13d193",
        "colab": {
          "base_uri": "https://localhost:8080/",
          "height": 68
        }
      },
      "source": [
        "print(x2)"
      ],
      "execution_count": 41,
      "outputs": [
        {
          "output_type": "stream",
          "text": [
            "[[99  5  2  4]\n",
            " [ 7  6  8  8]\n",
            " [ 1  6  7  7]]\n"
          ],
          "name": "stdout"
        }
      ]
    },
    {
      "cell_type": "markdown",
      "metadata": {
        "id": "z347cT_71oGg",
        "colab_type": "text"
      },
      "source": [
        "### Reshaping of Arrays"
      ]
    },
    {
      "cell_type": "code",
      "metadata": {
        "id": "L1wCPEUS1Y1r",
        "colab_type": "code",
        "outputId": "087d56c3-0d07-4530-8da1-864385545cb5",
        "colab": {
          "base_uri": "https://localhost:8080/",
          "height": 68
        }
      },
      "source": [
        "a = np.arange(1,10).reshape((3,3))\n",
        "print(a)"
      ],
      "execution_count": 42,
      "outputs": [
        {
          "output_type": "stream",
          "text": [
            "[[1 2 3]\n",
            " [4 5 6]\n",
            " [7 8 9]]\n"
          ],
          "name": "stdout"
        }
      ]
    },
    {
      "cell_type": "code",
      "metadata": {
        "id": "_lwAmox41vx3",
        "colab_type": "code",
        "outputId": "1bc69c5d-d5b0-4318-9fa6-8b4a8d1e8bd8",
        "colab": {
          "base_uri": "https://localhost:8080/",
          "height": 34
        }
      },
      "source": [
        "a = np.array([1,2,3])\n",
        "print(a)"
      ],
      "execution_count": 43,
      "outputs": [
        {
          "output_type": "stream",
          "text": [
            "[1 2 3]\n"
          ],
          "name": "stdout"
        }
      ]
    },
    {
      "cell_type": "code",
      "metadata": {
        "id": "U3KYYwpX2WCk",
        "colab_type": "code",
        "outputId": "3fac6cc0-92ad-4f68-9d68-a3a18407f6ef",
        "colab": {
          "base_uri": "https://localhost:8080/",
          "height": 34
        }
      },
      "source": [
        "a.reshape((1,3))"
      ],
      "execution_count": 44,
      "outputs": [
        {
          "output_type": "execute_result",
          "data": {
            "text/plain": [
              "array([[1, 2, 3]])"
            ]
          },
          "metadata": {
            "tags": []
          },
          "execution_count": 44
        }
      ]
    },
    {
      "cell_type": "code",
      "metadata": {
        "id": "teQBrlFa2a_d",
        "colab_type": "code",
        "outputId": "348931a2-afee-44ec-f35f-ea483883b493",
        "colab": {
          "base_uri": "https://localhost:8080/",
          "height": 34
        }
      },
      "source": [
        "a[np.newaxis,:]"
      ],
      "execution_count": 45,
      "outputs": [
        {
          "output_type": "execute_result",
          "data": {
            "text/plain": [
              "array([[1, 2, 3]])"
            ]
          },
          "metadata": {
            "tags": []
          },
          "execution_count": 45
        }
      ]
    },
    {
      "cell_type": "code",
      "metadata": {
        "id": "Wcpk_l5m2sAb",
        "colab_type": "code",
        "outputId": "41773fbf-3e71-4beb-c921-8fa4e8c8af84",
        "colab": {
          "base_uri": "https://localhost:8080/",
          "height": 68
        }
      },
      "source": [
        "a.reshape((3,1))"
      ],
      "execution_count": 46,
      "outputs": [
        {
          "output_type": "execute_result",
          "data": {
            "text/plain": [
              "array([[1],\n",
              "       [2],\n",
              "       [3]])"
            ]
          },
          "metadata": {
            "tags": []
          },
          "execution_count": 46
        }
      ]
    },
    {
      "cell_type": "code",
      "metadata": {
        "id": "JCATqExY2wHo",
        "colab_type": "code",
        "outputId": "3ab0827f-f344-480b-8633-869f08fc912f",
        "colab": {
          "base_uri": "https://localhost:8080/",
          "height": 68
        }
      },
      "source": [
        "a[:,np.newaxis]"
      ],
      "execution_count": 47,
      "outputs": [
        {
          "output_type": "execute_result",
          "data": {
            "text/plain": [
              "array([[1],\n",
              "       [2],\n",
              "       [3]])"
            ]
          },
          "metadata": {
            "tags": []
          },
          "execution_count": 47
        }
      ]
    },
    {
      "cell_type": "markdown",
      "metadata": {
        "id": "J-R2_3PW3QxF",
        "colab_type": "text"
      },
      "source": [
        "###Concatenation of Arrays"
      ]
    },
    {
      "cell_type": "code",
      "metadata": {
        "id": "zMWwNl-420aJ",
        "colab_type": "code",
        "outputId": "b838867e-8db4-453e-a43b-33d6aa032229",
        "colab": {
          "base_uri": "https://localhost:8080/",
          "height": 34
        }
      },
      "source": [
        "a = np.array([1,2,3])\n",
        "b = np.array([4,5,6])\n",
        "np.concatenate([a,b])"
      ],
      "execution_count": 48,
      "outputs": [
        {
          "output_type": "execute_result",
          "data": {
            "text/plain": [
              "array([1, 2, 3, 4, 5, 6])"
            ]
          },
          "metadata": {
            "tags": []
          },
          "execution_count": 48
        }
      ]
    },
    {
      "cell_type": "code",
      "metadata": {
        "id": "-TAKY_ci3ILJ",
        "colab_type": "code",
        "outputId": "01afe778-aa8d-4ba3-8f96-688c99c76364",
        "colab": {
          "base_uri": "https://localhost:8080/",
          "height": 34
        }
      },
      "source": [
        "c = np.array([7,8,9])\n",
        "np.concatenate([a,b,c])"
      ],
      "execution_count": 49,
      "outputs": [
        {
          "output_type": "execute_result",
          "data": {
            "text/plain": [
              "array([1, 2, 3, 4, 5, 6, 7, 8, 9])"
            ]
          },
          "metadata": {
            "tags": []
          },
          "execution_count": 49
        }
      ]
    },
    {
      "cell_type": "code",
      "metadata": {
        "id": "zBGBbj533g3e",
        "colab_type": "code",
        "outputId": "cce10169-1d2a-4944-e868-cfa0139fbe61",
        "colab": {
          "base_uri": "https://localhost:8080/",
          "height": 85
        }
      },
      "source": [
        "grid = np.array([[1,2,3],[4,5,6]])\n",
        "final_grid = np.concatenate([grid,grid])\n",
        "final_grid"
      ],
      "execution_count": 50,
      "outputs": [
        {
          "output_type": "execute_result",
          "data": {
            "text/plain": [
              "array([[1, 2, 3],\n",
              "       [4, 5, 6],\n",
              "       [1, 2, 3],\n",
              "       [4, 5, 6]])"
            ]
          },
          "metadata": {
            "tags": []
          },
          "execution_count": 50
        }
      ]
    },
    {
      "cell_type": "code",
      "metadata": {
        "id": "OsFju1qx3yMM",
        "colab_type": "code",
        "outputId": "53c70971-591a-4980-964d-82b71803f105",
        "colab": {
          "base_uri": "https://localhost:8080/",
          "height": 85
        }
      },
      "source": [
        "grid[0,0]=2\n",
        "print(final_grid)"
      ],
      "execution_count": 51,
      "outputs": [
        {
          "output_type": "stream",
          "text": [
            "[[1 2 3]\n",
            " [4 5 6]\n",
            " [1 2 3]\n",
            " [4 5 6]]\n"
          ],
          "name": "stdout"
        }
      ]
    },
    {
      "cell_type": "code",
      "metadata": {
        "id": "c9Uu10Cf4A0x",
        "colab_type": "code",
        "outputId": "2fabe38e-ad63-493d-f17a-58085b834e92",
        "colab": {
          "base_uri": "https://localhost:8080/",
          "height": 51
        }
      },
      "source": [
        "## Concatenate along the second axis\n",
        "np.concatenate([grid,grid],axis=1)"
      ],
      "execution_count": 52,
      "outputs": [
        {
          "output_type": "execute_result",
          "data": {
            "text/plain": [
              "array([[2, 2, 3, 2, 2, 3],\n",
              "       [4, 5, 6, 4, 5, 6]])"
            ]
          },
          "metadata": {
            "tags": []
          },
          "execution_count": 52
        }
      ]
    },
    {
      "cell_type": "markdown",
      "metadata": {
        "id": "49Km3os74oFI",
        "colab_type": "text"
      },
      "source": [
        "For working with mixed size arrays - horizontal stack ```np.hstack``` and vertical stack ```np.vstack``` is used."
      ]
    },
    {
      "cell_type": "code",
      "metadata": {
        "id": "ivpLUU5Z4Ye9",
        "colab_type": "code",
        "outputId": "5930dec3-87c0-4391-b195-52dba2be5783",
        "colab": {
          "base_uri": "https://localhost:8080/",
          "height": 68
        }
      },
      "source": [
        "x = np.array([1,2,3])\n",
        "grid = np.array([[4,5,6],\n",
        "                 [7,8,9]])\n",
        "np.vstack([x,grid])"
      ],
      "execution_count": 53,
      "outputs": [
        {
          "output_type": "execute_result",
          "data": {
            "text/plain": [
              "array([[1, 2, 3],\n",
              "       [4, 5, 6],\n",
              "       [7, 8, 9]])"
            ]
          },
          "metadata": {
            "tags": []
          },
          "execution_count": 53
        }
      ]
    },
    {
      "cell_type": "code",
      "metadata": {
        "id": "FriTXor-45FJ",
        "colab_type": "code",
        "outputId": "9983a5c0-20de-4a16-c0a9-abb321933263",
        "colab": {
          "base_uri": "https://localhost:8080/",
          "height": 51
        }
      },
      "source": [
        "y = np.array([[99],\n",
        "             [99]])\n",
        "np.hstack([grid,y])"
      ],
      "execution_count": 54,
      "outputs": [
        {
          "output_type": "execute_result",
          "data": {
            "text/plain": [
              "array([[ 4,  5,  6, 99],\n",
              "       [ 7,  8,  9, 99]])"
            ]
          },
          "metadata": {
            "tags": []
          },
          "execution_count": 54
        }
      ]
    },
    {
      "cell_type": "code",
      "metadata": {
        "id": "97q6pVrR5ZKW",
        "colab_type": "code",
        "outputId": "0c60316e-edfd-444a-9edb-b3578c50b0e3",
        "colab": {
          "base_uri": "https://localhost:8080/",
          "height": 136
        }
      },
      "source": [
        "np.dstack([grid,grid])"
      ],
      "execution_count": 55,
      "outputs": [
        {
          "output_type": "execute_result",
          "data": {
            "text/plain": [
              "array([[[4, 4],\n",
              "        [5, 5],\n",
              "        [6, 6]],\n",
              "\n",
              "       [[7, 7],\n",
              "        [8, 8],\n",
              "        [9, 9]]])"
            ]
          },
          "metadata": {
            "tags": []
          },
          "execution_count": 55
        }
      ]
    },
    {
      "cell_type": "markdown",
      "metadata": {
        "id": "3cTOK1Lh7BXk",
        "colab_type": "text"
      },
      "source": [
        "### Splitting of Arrays\n",
        "Array can be splitted with ```np.split```,```np.hsplit```,```np.vsplit```,and ```np.dsplit```"
      ]
    },
    {
      "cell_type": "code",
      "metadata": {
        "id": "480VS0HJ503N",
        "colab_type": "code",
        "outputId": "5eea7e25-c620-47bf-8875-f854307e083e",
        "colab": {
          "base_uri": "https://localhost:8080/",
          "height": 34
        }
      },
      "source": [
        "x = [1,2,3,99,99,3,2,1]\n",
        "x1,x2,x3 = np.split(x,[3,5])\n",
        "print(x1,x2,x3)"
      ],
      "execution_count": 56,
      "outputs": [
        {
          "output_type": "stream",
          "text": [
            "[1 2 3] [99 99] [3 2 1]\n"
          ],
          "name": "stdout"
        }
      ]
    },
    {
      "cell_type": "code",
      "metadata": {
        "id": "h9oSafHD7ICs",
        "colab_type": "code",
        "outputId": "1d1a88de-b682-46a8-d032-900eb02c4a46",
        "colab": {
          "base_uri": "https://localhost:8080/",
          "height": 85
        }
      },
      "source": [
        "grid = np.arange(16).reshape((4,4))\n",
        "grid"
      ],
      "execution_count": 57,
      "outputs": [
        {
          "output_type": "execute_result",
          "data": {
            "text/plain": [
              "array([[ 0,  1,  2,  3],\n",
              "       [ 4,  5,  6,  7],\n",
              "       [ 8,  9, 10, 11],\n",
              "       [12, 13, 14, 15]])"
            ]
          },
          "metadata": {
            "tags": []
          },
          "execution_count": 57
        }
      ]
    },
    {
      "cell_type": "code",
      "metadata": {
        "id": "ryrwLm3G7fYZ",
        "colab_type": "code",
        "outputId": "d3b244ee-23cb-4fb4-f0df-b91b5b1eae43",
        "colab": {
          "base_uri": "https://localhost:8080/",
          "height": 85
        }
      },
      "source": [
        "upper,lower = np.vsplit(grid,2)\n",
        "print(upper)\n",
        "print(lower)"
      ],
      "execution_count": 58,
      "outputs": [
        {
          "output_type": "stream",
          "text": [
            "[[0 1 2 3]\n",
            " [4 5 6 7]]\n",
            "[[ 8  9 10 11]\n",
            " [12 13 14 15]]\n"
          ],
          "name": "stdout"
        }
      ]
    },
    {
      "cell_type": "code",
      "metadata": {
        "id": "ltpUuL3g7tRR",
        "colab_type": "code",
        "outputId": "2e256049-bad4-4a36-8c59-72052427ea05",
        "colab": {
          "base_uri": "https://localhost:8080/",
          "height": 153
        }
      },
      "source": [
        "left,right = np.hsplit(grid,2)\n",
        "print(left)\n",
        "print(right)"
      ],
      "execution_count": 59,
      "outputs": [
        {
          "output_type": "stream",
          "text": [
            "[[ 0  1]\n",
            " [ 4  5]\n",
            " [ 8  9]\n",
            " [12 13]]\n",
            "[[ 2  3]\n",
            " [ 6  7]\n",
            " [10 11]\n",
            " [14 15]]\n"
          ],
          "name": "stdout"
        }
      ]
    },
    {
      "cell_type": "code",
      "metadata": {
        "id": "_t0ITsS671mr",
        "colab_type": "code",
        "outputId": "dfcfcff8-4b30-417e-ab38-8943e679068c",
        "colab": {
          "base_uri": "https://localhost:8080/",
          "height": 255
        }
      },
      "source": [
        "y = np.random.randint(10,size=(3,4,5))\n",
        "y"
      ],
      "execution_count": 60,
      "outputs": [
        {
          "output_type": "execute_result",
          "data": {
            "text/plain": [
              "array([[[4, 3, 4, 4, 8],\n",
              "        [4, 3, 7, 5, 5],\n",
              "        [0, 1, 5, 9, 3],\n",
              "        [0, 5, 0, 1, 2]],\n",
              "\n",
              "       [[4, 2, 0, 3, 2],\n",
              "        [0, 7, 5, 9, 0],\n",
              "        [2, 7, 2, 9, 2],\n",
              "        [3, 3, 2, 3, 4]],\n",
              "\n",
              "       [[1, 2, 9, 1, 4],\n",
              "        [6, 8, 2, 3, 0],\n",
              "        [0, 6, 0, 6, 3],\n",
              "        [3, 8, 8, 8, 2]]])"
            ]
          },
          "metadata": {
            "tags": []
          },
          "execution_count": 60
        }
      ]
    },
    {
      "cell_type": "markdown",
      "metadata": {
        "id": "aok_h9Jd8wI9",
        "colab_type": "text"
      },
      "source": [
        "Similarly ```np.dsplit``` will split the array along the third axis.\n",
        "It requires atleast array of 3 dimensions."
      ]
    },
    {
      "cell_type": "code",
      "metadata": {
        "id": "kSOKvpAS8CcI",
        "colab_type": "code",
        "outputId": "12e91c87-0e05-4291-ee81-51a48261cfce",
        "colab": {
          "base_uri": "https://localhost:8080/",
          "height": 527
        }
      },
      "source": [
        "d_split = np.dsplit(y,[2,2,2])\n",
        "d_split"
      ],
      "execution_count": 61,
      "outputs": [
        {
          "output_type": "execute_result",
          "data": {
            "text/plain": [
              "[array([[[4, 3],\n",
              "         [4, 3],\n",
              "         [0, 1],\n",
              "         [0, 5]],\n",
              " \n",
              "        [[4, 2],\n",
              "         [0, 7],\n",
              "         [2, 7],\n",
              "         [3, 3]],\n",
              " \n",
              "        [[1, 2],\n",
              "         [6, 8],\n",
              "         [0, 6],\n",
              "         [3, 8]]]),\n",
              " array([], shape=(3, 4, 0), dtype=int64),\n",
              " array([], shape=(3, 4, 0), dtype=int64),\n",
              " array([[[4, 4, 8],\n",
              "         [7, 5, 5],\n",
              "         [5, 9, 3],\n",
              "         [0, 1, 2]],\n",
              " \n",
              "        [[0, 3, 2],\n",
              "         [5, 9, 0],\n",
              "         [2, 9, 2],\n",
              "         [2, 3, 4]],\n",
              " \n",
              "        [[9, 1, 4],\n",
              "         [2, 3, 0],\n",
              "         [0, 6, 3],\n",
              "         [8, 8, 2]]])]"
            ]
          },
          "metadata": {
            "tags": []
          },
          "execution_count": 61
        }
      ]
    }
  ]
}