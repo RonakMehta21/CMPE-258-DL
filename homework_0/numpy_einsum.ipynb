{
  "nbformat": 4,
  "nbformat_minor": 0,
  "metadata": {
    "colab": {
      "name": "numpy.einsum.ipynb",
      "provenance": []
    },
    "kernelspec": {
      "name": "python3",
      "display_name": "Python 3"
    }
  },
  "cells": [
    {
      "cell_type": "markdown",
      "metadata": {
        "id": "6HT0T4KAlxzM",
        "colab_type": "text"
      },
      "source": [
        "<table align=\"left\">\n",
        "  <td>\n",
        "    <a target=\"_blank\" href=\"https://colab.research.google.com/drive/1zDa3L7otvQ2j7vMrFZ2qgjYPn2xXPBIY\"><img src=\"https://www.tensorflow.org/images/colab_logo_32px.png\" />Run in Google Colab</a>\n",
        "  </td>\n",
        "</table>"
      ]
    },
    {
      "cell_type": "code",
      "metadata": {
        "id": "gCtq-_AukjrN",
        "colab_type": "code",
        "colab": {}
      },
      "source": [
        "import numpy as np"
      ],
      "execution_count": 0,
      "outputs": []
    },
    {
      "cell_type": "code",
      "metadata": {
        "id": "x5MVyOFb_0hp",
        "colab_type": "code",
        "colab": {}
      },
      "source": [
        "a = np.arange(25).reshape(5,5)\n",
        "b = np.arange(5)\n",
        "c = np.arange(6).reshape(2,3)"
      ],
      "execution_count": 0,
      "outputs": []
    },
    {
      "cell_type": "code",
      "metadata": {
        "id": "MNa8UB9CkgGX",
        "colab_type": "code",
        "colab": {
          "base_uri": "https://localhost:8080/",
          "height": 34
        },
        "outputId": "eb436231-a136-4c97-f261-c33ac0ccf60e"
      },
      "source": [
        "np.einsum('ii', a)\n",
        "np.einsum(a, [0,0])\n",
        "np.trace(a)"
      ],
      "execution_count": 11,
      "outputs": [
        {
          "output_type": "execute_result",
          "data": {
            "text/plain": [
              "60"
            ]
          },
          "metadata": {
            "tags": []
          },
          "execution_count": 11
        }
      ]
    },
    {
      "cell_type": "code",
      "metadata": {
        "id": "ilYU62BGkm4F",
        "colab_type": "code",
        "colab": {
          "base_uri": "https://localhost:8080/",
          "height": 34
        },
        "outputId": "602257a7-7fcd-4c27-92a7-8f95b2264ee3"
      },
      "source": [
        "np.einsum('ii->i', a)\n",
        "np.einsum(a, [0,0], [0])\n",
        "np.diag(a)"
      ],
      "execution_count": 12,
      "outputs": [
        {
          "output_type": "execute_result",
          "data": {
            "text/plain": [
              "array([ 0,  6, 12, 18, 24])"
            ]
          },
          "metadata": {
            "tags": []
          },
          "execution_count": 12
        }
      ]
    },
    {
      "cell_type": "code",
      "metadata": {
        "id": "VQBqNQ1wkqKk",
        "colab_type": "code",
        "colab": {
          "base_uri": "https://localhost:8080/",
          "height": 34
        },
        "outputId": "fe2b7b04-978f-42cc-be92-689a3f4d756c"
      },
      "source": [
        "np.einsum('ij->i', a)\n",
        "np.einsum(a, [0,1], [0])\n",
        "np.sum(a, axis=1)"
      ],
      "execution_count": 13,
      "outputs": [
        {
          "output_type": "execute_result",
          "data": {
            "text/plain": [
              "array([ 10,  35,  60,  85, 110])"
            ]
          },
          "metadata": {
            "tags": []
          },
          "execution_count": 13
        }
      ]
    },
    {
      "cell_type": "code",
      "metadata": {
        "id": "JnSHAAJdksfY",
        "colab_type": "code",
        "colab": {
          "base_uri": "https://localhost:8080/",
          "height": 34
        },
        "outputId": "64eaee10-45ed-4317-fafb-1d3736418475"
      },
      "source": [
        "np.einsum('...j->...', a)\n",
        "np.einsum(a, [Ellipsis,1], [Ellipsis])"
      ],
      "execution_count": 14,
      "outputs": [
        {
          "output_type": "execute_result",
          "data": {
            "text/plain": [
              "array([ 10,  35,  60,  85, 110])"
            ]
          },
          "metadata": {
            "tags": []
          },
          "execution_count": 14
        }
      ]
    },
    {
      "cell_type": "code",
      "metadata": {
        "id": "2GDSR5DjkvOe",
        "colab_type": "code",
        "colab": {
          "base_uri": "https://localhost:8080/",
          "height": 68
        },
        "outputId": "ed3ae272-2315-4157-9c94-5205ef68fcd5"
      },
      "source": [
        "np.einsum('ji', c)\n",
        "np.einsum('ij->ji', c)\n",
        "np.einsum(c, [1,0])\n",
        "np.transpose(c)"
      ],
      "execution_count": 15,
      "outputs": [
        {
          "output_type": "execute_result",
          "data": {
            "text/plain": [
              "array([[0, 3],\n",
              "       [1, 4],\n",
              "       [2, 5]])"
            ]
          },
          "metadata": {
            "tags": []
          },
          "execution_count": 15
        }
      ]
    },
    {
      "cell_type": "code",
      "metadata": {
        "id": "Xy95MOSDk0bk",
        "colab_type": "code",
        "colab": {
          "base_uri": "https://localhost:8080/",
          "height": 34
        },
        "outputId": "e23e5e71-7814-472a-9668-7145d1b449c2"
      },
      "source": [
        "np.einsum('i,i', b, b)\n",
        "np.einsum(b, [0], b, [0])\n",
        "np.inner(b,b)"
      ],
      "execution_count": 16,
      "outputs": [
        {
          "output_type": "execute_result",
          "data": {
            "text/plain": [
              "30"
            ]
          },
          "metadata": {
            "tags": []
          },
          "execution_count": 16
        }
      ]
    },
    {
      "cell_type": "code",
      "metadata": {
        "id": "6zCbwgeNk_Qu",
        "colab_type": "code",
        "colab": {
          "base_uri": "https://localhost:8080/",
          "height": 34
        },
        "outputId": "038c54a0-1203-46d6-e3c2-046a51284ac8"
      },
      "source": [
        "np.einsum('ij,j', a, b)\n",
        "np.einsum(a, [0,1], b, [1])\n",
        "np.dot(a, b)\n",
        "np.einsum('...j,j', a, b)"
      ],
      "execution_count": 18,
      "outputs": [
        {
          "output_type": "execute_result",
          "data": {
            "text/plain": [
              "array([ 30,  80, 130, 180, 230])"
            ]
          },
          "metadata": {
            "tags": []
          },
          "execution_count": 18
        }
      ]
    },
    {
      "cell_type": "code",
      "metadata": {
        "id": "jfCJPeX0lBZu",
        "colab_type": "code",
        "colab": {
          "base_uri": "https://localhost:8080/",
          "height": 51
        },
        "outputId": "f0423756-9b10-40bb-e14a-1a708c359f4c"
      },
      "source": [
        "np.einsum('..., ...', 3, c)\n",
        "np.einsum(',ij', 3, c)\n",
        "np.einsum(3, [Ellipsis], c, [Ellipsis])\n",
        "np.multiply(3, c)"
      ],
      "execution_count": 20,
      "outputs": [
        {
          "output_type": "execute_result",
          "data": {
            "text/plain": [
              "array([[ 0,  3,  6],\n",
              "       [ 9, 12, 15]])"
            ]
          },
          "metadata": {
            "tags": []
          },
          "execution_count": 20
        }
      ]
    },
    {
      "cell_type": "code",
      "metadata": {
        "id": "PktH2emvlHeA",
        "colab_type": "code",
        "colab": {
          "base_uri": "https://localhost:8080/",
          "height": 51
        },
        "outputId": "d6469648-cf7b-476c-8d0d-3691ee6d0cd6"
      },
      "source": [
        "np.einsum('i,j', np.arange(2)+1, b)\n",
        "np.einsum(np.arange(2)+1, [0], b, [1])\n",
        "np.outer(np.arange(2)+1, b)"
      ],
      "execution_count": 21,
      "outputs": [
        {
          "output_type": "execute_result",
          "data": {
            "text/plain": [
              "array([[0, 1, 2, 3, 4],\n",
              "       [0, 2, 4, 6, 8]])"
            ]
          },
          "metadata": {
            "tags": []
          },
          "execution_count": 21
        }
      ]
    },
    {
      "cell_type": "code",
      "metadata": {
        "id": "GK75OYrvlMR-",
        "colab_type": "code",
        "colab": {
          "base_uri": "https://localhost:8080/",
          "height": 102
        },
        "outputId": "ed94c6dc-086f-4dc3-aa01-f1c931399c49"
      },
      "source": [
        "a = np.arange(60.).reshape(3,4,5)\n",
        "b = np.arange(24.).reshape(4,3,2)\n",
        "np.einsum('ijk,jil->kl', a, b)\n",
        "np.einsum(a, [0,1,2], b, [1,0,3], [2,3])\n",
        "np.tensordot(a,b, axes=([1,0],[0,1]))"
      ],
      "execution_count": 23,
      "outputs": [
        {
          "output_type": "execute_result",
          "data": {
            "text/plain": [
              "array([[4400., 4730.],\n",
              "       [4532., 4874.],\n",
              "       [4664., 5018.],\n",
              "       [4796., 5162.],\n",
              "       [4928., 5306.]])"
            ]
          },
          "metadata": {
            "tags": []
          },
          "execution_count": 23
        }
      ]
    },
    {
      "cell_type": "code",
      "metadata": {
        "id": "k1_niG21lO2K",
        "colab_type": "code",
        "colab": {
          "base_uri": "https://localhost:8080/",
          "height": 68
        },
        "outputId": "6f2ee293-e3be-4157-853b-a6bdf540181d"
      },
      "source": [
        "a = np.zeros((3, 3))\n",
        "np.einsum('ii->i', a)[:] = 1\n",
        "a"
      ],
      "execution_count": 24,
      "outputs": [
        {
          "output_type": "execute_result",
          "data": {
            "text/plain": [
              "array([[1., 0., 0.],\n",
              "       [0., 1., 0.],\n",
              "       [0., 0., 1.]])"
            ]
          },
          "metadata": {
            "tags": []
          },
          "execution_count": 24
        }
      ]
    },
    {
      "cell_type": "code",
      "metadata": {
        "id": "56PTLv-ClSyg",
        "colab_type": "code",
        "colab": {
          "base_uri": "https://localhost:8080/",
          "height": 51
        },
        "outputId": "e6d1a599-d474-44e3-d9c6-7b79288f6215"
      },
      "source": [
        "a = np.arange(6).reshape((3,2))\n",
        "b = np.arange(12).reshape((4,3))\n",
        "np.einsum('ki,jk->ij', a, b)\n",
        "np.einsum('ki,...k->i...', a, b)\n",
        "np.einsum('k...,jk', a, b)"
      ],
      "execution_count": 25,
      "outputs": [
        {
          "output_type": "execute_result",
          "data": {
            "text/plain": [
              "array([[10, 28, 46, 64],\n",
              "       [13, 40, 67, 94]])"
            ]
          },
          "metadata": {
            "tags": []
          },
          "execution_count": 25
        }
      ]
    },
    {
      "cell_type": "code",
      "metadata": {
        "id": "Wv_3TkqrlWg-",
        "colab_type": "code",
        "colab": {}
      },
      "source": [
        "a = np.ones(64).reshape(2,4,8)"
      ],
      "execution_count": 0,
      "outputs": []
    },
    {
      "cell_type": "code",
      "metadata": {
        "id": "yTASQ7QVlY3T",
        "colab_type": "code",
        "colab": {}
      },
      "source": [
        "for iteration in range(500):\n",
        "    _ = np.einsum('ijk,ilm,njm,nlk,abc->',a,a,a,a,a)"
      ],
      "execution_count": 0,
      "outputs": []
    },
    {
      "cell_type": "code",
      "metadata": {
        "id": "QTPlO-dOlbE5",
        "colab_type": "code",
        "colab": {}
      },
      "source": [
        "for iteration in range(500):\n",
        "    _ = np.einsum('ijk,ilm,njm,nlk,abc->',a,a,a,a,a, optimize='optimal')"
      ],
      "execution_count": 0,
      "outputs": []
    },
    {
      "cell_type": "code",
      "metadata": {
        "id": "ubrdK8RBldP1",
        "colab_type": "code",
        "colab": {}
      },
      "source": [
        "for iteration in range(500):\n",
        "    _ = np.einsum('ijk,ilm,njm,nlk,abc->',a,a,a,a,a, optimize='greedy')"
      ],
      "execution_count": 0,
      "outputs": []
    },
    {
      "cell_type": "code",
      "metadata": {
        "id": "nV_17B1ylgz4",
        "colab_type": "code",
        "colab": {}
      },
      "source": [
        "path = np.einsum_path('ijk,ilm,njm,nlk,abc->',a,a,a,a,a, optimize='optimal')[0]\n",
        "for iteration in range(500):\n",
        "    _ = np.einsum('ijk,ilm,njm,nlk,abc->',a,a,a,a,a, optimize=path)"
      ],
      "execution_count": 0,
      "outputs": []
    }
  ]
}